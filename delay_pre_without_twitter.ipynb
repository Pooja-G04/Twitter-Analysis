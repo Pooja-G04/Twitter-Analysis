{
 "cells": [
  {
   "cell_type": "markdown",
   "metadata": {},
   "source": [
    "## Machine Learning Algorithms on twitter-less Indigo data for the year 2019"
   ]
  },
  {
   "cell_type": "code",
   "execution_count": 89,
   "metadata": {},
   "outputs": [],
   "source": [
    "import numpy as np\n",
    "import pandas as pd\n",
    "import matplotlib.pyplot as plt\n",
    "import seaborn as sns\n",
    "from sklearn.model_selection import train_test_split\n",
    "from sklearn.preprocessing import MinMaxScaler\n",
    "from sklearn import metrics"
   ]
  },
  {
   "cell_type": "code",
   "execution_count": 90,
   "metadata": {},
   "outputs": [],
   "source": [
    "df = pd.read_csv(\"fit_data_twitter.csv\") "
   ]
  },
  {
   "cell_type": "code",
   "execution_count": 91,
   "metadata": {},
   "outputs": [
    {
     "data": {
      "text/html": [
       "<div>\n",
       "<style scoped>\n",
       "    .dataframe tbody tr th:only-of-type {\n",
       "        vertical-align: middle;\n",
       "    }\n",
       "\n",
       "    .dataframe tbody tr th {\n",
       "        vertical-align: top;\n",
       "    }\n",
       "\n",
       "    .dataframe thead th {\n",
       "        text-align: right;\n",
       "    }\n",
       "</style>\n",
       "<table border=\"1\" class=\"dataframe\">\n",
       "  <thead>\n",
       "    <tr style=\"text-align: right;\">\n",
       "      <th></th>\n",
       "      <th>D_Airport Rating</th>\n",
       "      <th>D_Airport On Time Rating</th>\n",
       "      <th>D_Airport Service Rating</th>\n",
       "      <th>A_Airport Rating</th>\n",
       "      <th>A_Airport On Time Rating</th>\n",
       "      <th>A_Airport Service Rating</th>\n",
       "      <th>D_Delay</th>\n",
       "      <th>Duration</th>\n",
       "      <th>A_Delay</th>\n",
       "      <th>C_Rating</th>\n",
       "      <th>...</th>\n",
       "      <th>A_WindGustKmph</th>\n",
       "      <th>A_cloudcover</th>\n",
       "      <th>A_humidity</th>\n",
       "      <th>A_precipMM</th>\n",
       "      <th>A_pressure</th>\n",
       "      <th>A_tempC</th>\n",
       "      <th>A_visibility</th>\n",
       "      <th>A_winddirDegree</th>\n",
       "      <th>A_windspeedKmph</th>\n",
       "      <th>A_Time</th>\n",
       "    </tr>\n",
       "  </thead>\n",
       "  <tbody>\n",
       "    <tr>\n",
       "      <th>0</th>\n",
       "      <td>7.50</td>\n",
       "      <td>8.6</td>\n",
       "      <td>9.2</td>\n",
       "      <td>7.29</td>\n",
       "      <td>6.2</td>\n",
       "      <td>9.0</td>\n",
       "      <td>3.0</td>\n",
       "      <td>73.0</td>\n",
       "      <td>-29.0</td>\n",
       "      <td>7.9</td>\n",
       "      <td>...</td>\n",
       "      <td>7.0</td>\n",
       "      <td>32.0</td>\n",
       "      <td>61.0</td>\n",
       "      <td>0.0</td>\n",
       "      <td>1011.0</td>\n",
       "      <td>28.0</td>\n",
       "      <td>10.0</td>\n",
       "      <td>344.0</td>\n",
       "      <td>6.0</td>\n",
       "      <td>6.0</td>\n",
       "    </tr>\n",
       "    <tr>\n",
       "      <th>1</th>\n",
       "      <td>7.50</td>\n",
       "      <td>8.6</td>\n",
       "      <td>9.2</td>\n",
       "      <td>7.29</td>\n",
       "      <td>6.2</td>\n",
       "      <td>9.0</td>\n",
       "      <td>3.0</td>\n",
       "      <td>73.0</td>\n",
       "      <td>-29.0</td>\n",
       "      <td>7.9</td>\n",
       "      <td>...</td>\n",
       "      <td>7.0</td>\n",
       "      <td>32.0</td>\n",
       "      <td>61.0</td>\n",
       "      <td>0.0</td>\n",
       "      <td>1011.0</td>\n",
       "      <td>28.0</td>\n",
       "      <td>10.0</td>\n",
       "      <td>344.0</td>\n",
       "      <td>6.0</td>\n",
       "      <td>6.0</td>\n",
       "    </tr>\n",
       "    <tr>\n",
       "      <th>2</th>\n",
       "      <td>7.50</td>\n",
       "      <td>8.6</td>\n",
       "      <td>9.2</td>\n",
       "      <td>7.29</td>\n",
       "      <td>6.2</td>\n",
       "      <td>9.0</td>\n",
       "      <td>3.0</td>\n",
       "      <td>73.0</td>\n",
       "      <td>-29.0</td>\n",
       "      <td>7.9</td>\n",
       "      <td>...</td>\n",
       "      <td>7.0</td>\n",
       "      <td>32.0</td>\n",
       "      <td>61.0</td>\n",
       "      <td>0.0</td>\n",
       "      <td>1011.0</td>\n",
       "      <td>28.0</td>\n",
       "      <td>10.0</td>\n",
       "      <td>344.0</td>\n",
       "      <td>6.0</td>\n",
       "      <td>6.0</td>\n",
       "    </tr>\n",
       "    <tr>\n",
       "      <th>3</th>\n",
       "      <td>7.00</td>\n",
       "      <td>8.5</td>\n",
       "      <td>8.7</td>\n",
       "      <td>7.99</td>\n",
       "      <td>7.3</td>\n",
       "      <td>9.1</td>\n",
       "      <td>14.0</td>\n",
       "      <td>129.0</td>\n",
       "      <td>-7.0</td>\n",
       "      <td>7.9</td>\n",
       "      <td>...</td>\n",
       "      <td>5.0</td>\n",
       "      <td>0.0</td>\n",
       "      <td>21.0</td>\n",
       "      <td>0.0</td>\n",
       "      <td>1010.0</td>\n",
       "      <td>32.0</td>\n",
       "      <td>10.0</td>\n",
       "      <td>288.0</td>\n",
       "      <td>4.0</td>\n",
       "      <td>8.0</td>\n",
       "    </tr>\n",
       "    <tr>\n",
       "      <th>4</th>\n",
       "      <td>7.00</td>\n",
       "      <td>8.5</td>\n",
       "      <td>8.7</td>\n",
       "      <td>7.99</td>\n",
       "      <td>7.3</td>\n",
       "      <td>9.1</td>\n",
       "      <td>14.0</td>\n",
       "      <td>129.0</td>\n",
       "      <td>-7.0</td>\n",
       "      <td>7.9</td>\n",
       "      <td>...</td>\n",
       "      <td>5.0</td>\n",
       "      <td>0.0</td>\n",
       "      <td>21.0</td>\n",
       "      <td>0.0</td>\n",
       "      <td>1010.0</td>\n",
       "      <td>32.0</td>\n",
       "      <td>10.0</td>\n",
       "      <td>288.0</td>\n",
       "      <td>4.0</td>\n",
       "      <td>8.0</td>\n",
       "    </tr>\n",
       "    <tr>\n",
       "      <th>...</th>\n",
       "      <td>...</td>\n",
       "      <td>...</td>\n",
       "      <td>...</td>\n",
       "      <td>...</td>\n",
       "      <td>...</td>\n",
       "      <td>...</td>\n",
       "      <td>...</td>\n",
       "      <td>...</td>\n",
       "      <td>...</td>\n",
       "      <td>...</td>\n",
       "      <td>...</td>\n",
       "      <td>...</td>\n",
       "      <td>...</td>\n",
       "      <td>...</td>\n",
       "      <td>...</td>\n",
       "      <td>...</td>\n",
       "      <td>...</td>\n",
       "      <td>...</td>\n",
       "      <td>...</td>\n",
       "      <td>...</td>\n",
       "      <td>...</td>\n",
       "    </tr>\n",
       "    <tr>\n",
       "      <th>1366</th>\n",
       "      <td>7.50</td>\n",
       "      <td>8.6</td>\n",
       "      <td>9.2</td>\n",
       "      <td>7.99</td>\n",
       "      <td>7.3</td>\n",
       "      <td>9.1</td>\n",
       "      <td>14.0</td>\n",
       "      <td>153.0</td>\n",
       "      <td>-3.0</td>\n",
       "      <td>7.9</td>\n",
       "      <td>...</td>\n",
       "      <td>9.0</td>\n",
       "      <td>3.0</td>\n",
       "      <td>67.0</td>\n",
       "      <td>0.0</td>\n",
       "      <td>1017.0</td>\n",
       "      <td>14.0</td>\n",
       "      <td>10.0</td>\n",
       "      <td>283.0</td>\n",
       "      <td>8.0</td>\n",
       "      <td>6.0</td>\n",
       "    </tr>\n",
       "    <tr>\n",
       "      <th>1367</th>\n",
       "      <td>7.29</td>\n",
       "      <td>6.2</td>\n",
       "      <td>9.0</td>\n",
       "      <td>7.99</td>\n",
       "      <td>7.3</td>\n",
       "      <td>9.1</td>\n",
       "      <td>12.0</td>\n",
       "      <td>105.0</td>\n",
       "      <td>-22.0</td>\n",
       "      <td>7.9</td>\n",
       "      <td>...</td>\n",
       "      <td>10.0</td>\n",
       "      <td>7.0</td>\n",
       "      <td>63.0</td>\n",
       "      <td>0.0</td>\n",
       "      <td>1018.0</td>\n",
       "      <td>14.0</td>\n",
       "      <td>10.0</td>\n",
       "      <td>288.0</td>\n",
       "      <td>9.0</td>\n",
       "      <td>8.0</td>\n",
       "    </tr>\n",
       "    <tr>\n",
       "      <th>1368</th>\n",
       "      <td>7.00</td>\n",
       "      <td>8.5</td>\n",
       "      <td>8.7</td>\n",
       "      <td>7.99</td>\n",
       "      <td>7.3</td>\n",
       "      <td>9.1</td>\n",
       "      <td>9.0</td>\n",
       "      <td>130.0</td>\n",
       "      <td>-11.0</td>\n",
       "      <td>7.9</td>\n",
       "      <td>...</td>\n",
       "      <td>6.0</td>\n",
       "      <td>6.0</td>\n",
       "      <td>45.0</td>\n",
       "      <td>0.0</td>\n",
       "      <td>1017.0</td>\n",
       "      <td>19.0</td>\n",
       "      <td>10.0</td>\n",
       "      <td>187.0</td>\n",
       "      <td>4.0</td>\n",
       "      <td>8.0</td>\n",
       "    </tr>\n",
       "    <tr>\n",
       "      <th>1369</th>\n",
       "      <td>7.00</td>\n",
       "      <td>8.5</td>\n",
       "      <td>8.7</td>\n",
       "      <td>7.99</td>\n",
       "      <td>7.3</td>\n",
       "      <td>9.1</td>\n",
       "      <td>0.0</td>\n",
       "      <td>131.0</td>\n",
       "      <td>-29.0</td>\n",
       "      <td>7.9</td>\n",
       "      <td>...</td>\n",
       "      <td>9.0</td>\n",
       "      <td>5.0</td>\n",
       "      <td>65.0</td>\n",
       "      <td>0.0</td>\n",
       "      <td>1018.0</td>\n",
       "      <td>14.0</td>\n",
       "      <td>10.0</td>\n",
       "      <td>286.0</td>\n",
       "      <td>8.0</td>\n",
       "      <td>7.0</td>\n",
       "    </tr>\n",
       "    <tr>\n",
       "      <th>1370</th>\n",
       "      <td>7.99</td>\n",
       "      <td>7.3</td>\n",
       "      <td>9.1</td>\n",
       "      <td>8.27</td>\n",
       "      <td>7.8</td>\n",
       "      <td>9.0</td>\n",
       "      <td>39.0</td>\n",
       "      <td>99.0</td>\n",
       "      <td>8.0</td>\n",
       "      <td>7.9</td>\n",
       "      <td>...</td>\n",
       "      <td>14.0</td>\n",
       "      <td>31.0</td>\n",
       "      <td>75.0</td>\n",
       "      <td>0.0</td>\n",
       "      <td>1014.0</td>\n",
       "      <td>22.0</td>\n",
       "      <td>10.0</td>\n",
       "      <td>120.0</td>\n",
       "      <td>10.0</td>\n",
       "      <td>7.0</td>\n",
       "    </tr>\n",
       "  </tbody>\n",
       "</table>\n",
       "<p>1371 rows × 35 columns</p>\n",
       "</div>"
      ],
      "text/plain": [
       "      D_Airport Rating  D_Airport On Time Rating  D_Airport Service Rating  \\\n",
       "0                 7.50                       8.6                       9.2   \n",
       "1                 7.50                       8.6                       9.2   \n",
       "2                 7.50                       8.6                       9.2   \n",
       "3                 7.00                       8.5                       8.7   \n",
       "4                 7.00                       8.5                       8.7   \n",
       "...                ...                       ...                       ...   \n",
       "1366              7.50                       8.6                       9.2   \n",
       "1367              7.29                       6.2                       9.0   \n",
       "1368              7.00                       8.5                       8.7   \n",
       "1369              7.00                       8.5                       8.7   \n",
       "1370              7.99                       7.3                       9.1   \n",
       "\n",
       "      A_Airport Rating  A_Airport On Time Rating  A_Airport Service Rating  \\\n",
       "0                 7.29                       6.2                       9.0   \n",
       "1                 7.29                       6.2                       9.0   \n",
       "2                 7.29                       6.2                       9.0   \n",
       "3                 7.99                       7.3                       9.1   \n",
       "4                 7.99                       7.3                       9.1   \n",
       "...                ...                       ...                       ...   \n",
       "1366              7.99                       7.3                       9.1   \n",
       "1367              7.99                       7.3                       9.1   \n",
       "1368              7.99                       7.3                       9.1   \n",
       "1369              7.99                       7.3                       9.1   \n",
       "1370              8.27                       7.8                       9.0   \n",
       "\n",
       "      D_Delay  Duration  A_Delay  C_Rating  ...  A_WindGustKmph  A_cloudcover  \\\n",
       "0         3.0      73.0    -29.0       7.9  ...             7.0          32.0   \n",
       "1         3.0      73.0    -29.0       7.9  ...             7.0          32.0   \n",
       "2         3.0      73.0    -29.0       7.9  ...             7.0          32.0   \n",
       "3        14.0     129.0     -7.0       7.9  ...             5.0           0.0   \n",
       "4        14.0     129.0     -7.0       7.9  ...             5.0           0.0   \n",
       "...       ...       ...      ...       ...  ...             ...           ...   \n",
       "1366     14.0     153.0     -3.0       7.9  ...             9.0           3.0   \n",
       "1367     12.0     105.0    -22.0       7.9  ...            10.0           7.0   \n",
       "1368      9.0     130.0    -11.0       7.9  ...             6.0           6.0   \n",
       "1369      0.0     131.0    -29.0       7.9  ...             9.0           5.0   \n",
       "1370     39.0      99.0      8.0       7.9  ...            14.0          31.0   \n",
       "\n",
       "      A_humidity  A_precipMM  A_pressure  A_tempC  A_visibility  \\\n",
       "0           61.0         0.0      1011.0     28.0          10.0   \n",
       "1           61.0         0.0      1011.0     28.0          10.0   \n",
       "2           61.0         0.0      1011.0     28.0          10.0   \n",
       "3           21.0         0.0      1010.0     32.0          10.0   \n",
       "4           21.0         0.0      1010.0     32.0          10.0   \n",
       "...          ...         ...         ...      ...           ...   \n",
       "1366        67.0         0.0      1017.0     14.0          10.0   \n",
       "1367        63.0         0.0      1018.0     14.0          10.0   \n",
       "1368        45.0         0.0      1017.0     19.0          10.0   \n",
       "1369        65.0         0.0      1018.0     14.0          10.0   \n",
       "1370        75.0         0.0      1014.0     22.0          10.0   \n",
       "\n",
       "      A_winddirDegree  A_windspeedKmph  A_Time  \n",
       "0               344.0              6.0     6.0  \n",
       "1               344.0              6.0     6.0  \n",
       "2               344.0              6.0     6.0  \n",
       "3               288.0              4.0     8.0  \n",
       "4               288.0              4.0     8.0  \n",
       "...               ...              ...     ...  \n",
       "1366            283.0              8.0     6.0  \n",
       "1367            288.0              9.0     8.0  \n",
       "1368            187.0              4.0     8.0  \n",
       "1369            286.0              8.0     7.0  \n",
       "1370            120.0             10.0     7.0  \n",
       "\n",
       "[1371 rows x 35 columns]"
      ]
     },
     "execution_count": 91,
     "metadata": {},
     "output_type": "execute_result"
    }
   ],
   "source": [
    "df = df.drop(['day','month','polarity','subjectivity','tweet_volume'], axis=1)\n",
    "df"
   ]
  },
  {
   "cell_type": "markdown",
   "metadata": {},
   "source": [
    "# Outlier Detection"
   ]
  },
  {
   "cell_type": "code",
   "execution_count": 92,
   "metadata": {},
   "outputs": [
    {
     "name": "stderr",
     "output_type": "stream",
     "text": [
      "C:\\Users\\Pooja\\anaconda3\\lib\\site-packages\\seaborn\\distributions.py:2551: FutureWarning: `distplot` is a deprecated function and will be removed in a future version. Please adapt your code to use either `displot` (a figure-level function with similar flexibility) or `histplot` (an axes-level function for histograms).\n",
      "  warnings.warn(msg, FutureWarning)\n",
      "C:\\Users\\Pooja\\anaconda3\\lib\\site-packages\\seaborn\\_decorators.py:36: FutureWarning: Pass the following variable as a keyword arg: x. From version 0.12, the only valid positional argument will be `data`, and passing other arguments without an explicit keyword will result in an error or misinterpretation.\n",
      "  warnings.warn(\n"
     ]
    },
    {
     "data": {
      "image/png": "[encoded data removed]",
      "text/plain": [
       "<Figure size 432x288 with 2 Axes>"
      ]
     },
     "metadata": {
      "needs_background": "light"
     },
     "output_type": "display_data"
    }
   ],
   "source": [
    "def plot(data,col):\n",
    "    fig,(ax1,ax2)=plt.subplots(2,1)\n",
    "    sns.distplot(data[col],ax=ax1)\n",
    "    sns.boxplot(data[col],ax=ax2)\n",
    "df['A_Delay']=np.where(df['A_Delay']>=40,df['A_Delay'].median(),df['A_Delay'])\n",
    "plot(df,'A_Delay')"
   ]
  },
  {
   "cell_type": "markdown",
   "metadata": {},
   "source": [
    "## Feature Selection"
   ]
  },
  {
   "cell_type": "code",
   "execution_count": 93,
   "metadata": {},
   "outputs": [],
   "source": [
    "from sklearn.feature_selection import mutual_info_classif"
   ]
  },
  {
   "cell_type": "code",
   "execution_count": 94,
   "metadata": {},
   "outputs": [
    {
     "data": {
      "text/html": [
       "<div>\n",
       "<style scoped>\n",
       "    .dataframe tbody tr th:only-of-type {\n",
       "        vertical-align: middle;\n",
       "    }\n",
       "\n",
       "    .dataframe tbody tr th {\n",
       "        vertical-align: top;\n",
       "    }\n",
       "\n",
       "    .dataframe thead th {\n",
       "        text-align: right;\n",
       "    }\n",
       "</style>\n",
       "<table border=\"1\" class=\"dataframe\">\n",
       "  <thead>\n",
       "    <tr style=\"text-align: right;\">\n",
       "      <th></th>\n",
       "      <th>importance</th>\n",
       "    </tr>\n",
       "  </thead>\n",
       "  <tbody>\n",
       "    <tr>\n",
       "      <th>D_Delay</th>\n",
       "      <td>0.686268</td>\n",
       "    </tr>\n",
       "    <tr>\n",
       "      <th>Duration</th>\n",
       "      <td>0.602061</td>\n",
       "    </tr>\n",
       "    <tr>\n",
       "      <th>D_winddirDegree</th>\n",
       "      <td>0.581278</td>\n",
       "    </tr>\n",
       "    <tr>\n",
       "      <th>A_winddirDegree</th>\n",
       "      <td>0.562859</td>\n",
       "    </tr>\n",
       "    <tr>\n",
       "      <th>D_humidity</th>\n",
       "      <td>0.501339</td>\n",
       "    </tr>\n",
       "    <tr>\n",
       "      <th>A_humidity</th>\n",
       "      <td>0.488674</td>\n",
       "    </tr>\n",
       "    <tr>\n",
       "      <th>D_cloudcover</th>\n",
       "      <td>0.446227</td>\n",
       "    </tr>\n",
       "    <tr>\n",
       "      <th>A_DewPointC</th>\n",
       "      <td>0.443182</td>\n",
       "    </tr>\n",
       "    <tr>\n",
       "      <th>D_tempC</th>\n",
       "      <td>0.422804</td>\n",
       "    </tr>\n",
       "    <tr>\n",
       "      <th>D_pressure</th>\n",
       "      <td>0.409241</td>\n",
       "    </tr>\n",
       "    <tr>\n",
       "      <th>A_pressure</th>\n",
       "      <td>0.385009</td>\n",
       "    </tr>\n",
       "    <tr>\n",
       "      <th>A_cloudcover</th>\n",
       "      <td>0.369162</td>\n",
       "    </tr>\n",
       "    <tr>\n",
       "      <th>D_WindGustKmph</th>\n",
       "      <td>0.358782</td>\n",
       "    </tr>\n",
       "    <tr>\n",
       "      <th>A_tempC</th>\n",
       "      <td>0.352050</td>\n",
       "    </tr>\n",
       "    <tr>\n",
       "      <th>C_Load Factor</th>\n",
       "      <td>0.344149</td>\n",
       "    </tr>\n",
       "    <tr>\n",
       "      <th>D_windspeedKmph</th>\n",
       "      <td>0.343782</td>\n",
       "    </tr>\n",
       "    <tr>\n",
       "      <th>A_windspeedKmph</th>\n",
       "      <td>0.338600</td>\n",
       "    </tr>\n",
       "    <tr>\n",
       "      <th>D_DewPointC</th>\n",
       "      <td>0.334897</td>\n",
       "    </tr>\n",
       "    <tr>\n",
       "      <th>A_WindGustKmph</th>\n",
       "      <td>0.329509</td>\n",
       "    </tr>\n",
       "    <tr>\n",
       "      <th>C_Market Share</th>\n",
       "      <td>0.300968</td>\n",
       "    </tr>\n",
       "    <tr>\n",
       "      <th>A_Airport Rating</th>\n",
       "      <td>0.284037</td>\n",
       "    </tr>\n",
       "    <tr>\n",
       "      <th>C_Rating</th>\n",
       "      <td>0.271418</td>\n",
       "    </tr>\n",
       "    <tr>\n",
       "      <th>D_Airport On Time Rating</th>\n",
       "      <td>0.267937</td>\n",
       "    </tr>\n",
       "    <tr>\n",
       "      <th>D_Airport Service Rating</th>\n",
       "      <td>0.242797</td>\n",
       "    </tr>\n",
       "    <tr>\n",
       "      <th>A_Airport On Time Rating</th>\n",
       "      <td>0.241314</td>\n",
       "    </tr>\n",
       "    <tr>\n",
       "      <th>C_On Time Performance Rating</th>\n",
       "      <td>0.238968</td>\n",
       "    </tr>\n",
       "    <tr>\n",
       "      <th>A_Time</th>\n",
       "      <td>0.238210</td>\n",
       "    </tr>\n",
       "    <tr>\n",
       "      <th>D_Airport Rating</th>\n",
       "      <td>0.220605</td>\n",
       "    </tr>\n",
       "    <tr>\n",
       "      <th>D_Time</th>\n",
       "      <td>0.220330</td>\n",
       "    </tr>\n",
       "    <tr>\n",
       "      <th>A_Airport Service Rating</th>\n",
       "      <td>0.195076</td>\n",
       "    </tr>\n",
       "    <tr>\n",
       "      <th>A_visibility</th>\n",
       "      <td>0.193857</td>\n",
       "    </tr>\n",
       "    <tr>\n",
       "      <th>D_visibility</th>\n",
       "      <td>0.181008</td>\n",
       "    </tr>\n",
       "  </tbody>\n",
       "</table>\n",
       "</div>"
      ],
      "text/plain": [
       "                              importance\n",
       "D_Delay                         0.686268\n",
       "Duration                        0.602061\n",
       "D_winddirDegree                 0.581278\n",
       "A_winddirDegree                 0.562859\n",
       "D_humidity                      0.501339\n",
       "A_humidity                      0.488674\n",
       "D_cloudcover                    0.446227\n",
       "A_DewPointC                     0.443182\n",
       "D_tempC                         0.422804\n",
       "D_pressure                      0.409241\n",
       "A_pressure                      0.385009\n",
       "A_cloudcover                    0.369162\n",
       "D_WindGustKmph                  0.358782\n",
       "A_tempC                         0.352050\n",
       "C_Load Factor                   0.344149\n",
       "D_windspeedKmph                 0.343782\n",
       "A_windspeedKmph                 0.338600\n",
       "D_DewPointC                     0.334897\n",
       "A_WindGustKmph                  0.329509\n",
       "C_Market Share                  0.300968\n",
       "A_Airport Rating                0.284037\n",
       "C_Rating                        0.271418\n",
       "D_Airport On Time Rating        0.267937\n",
       "D_Airport Service Rating        0.242797\n",
       "A_Airport On Time Rating        0.241314\n",
       "C_On Time Performance Rating    0.238968\n",
       "A_Time                          0.238210\n",
       "D_Airport Rating                0.220605\n",
       "D_Time                          0.220330\n",
       "A_Airport Service Rating        0.195076\n",
       "A_visibility                    0.193857\n",
       "D_visibility                    0.181008"
      ]
     },
     "execution_count": 94,
     "metadata": {},
     "output_type": "execute_result"
    }
   ],
   "source": [
    "imp = pd.DataFrame(mutual_info_classif(X,y),index=X.columns)\n",
    "imp.columns=['importance']\n",
    "imp.sort_values(by='importance',ascending=False)"
   ]
  },
  {
   "cell_type": "markdown",
   "metadata": {},
   "source": [
    "### Observably features A_precipMM and D_precipMM are contributing the least to the target variable prediction"
   ]
  },
  {
   "cell_type": "markdown",
   "metadata": {},
   "source": [
    "## Train Test Split"
   ]
  },
  {
   "cell_type": "code",
   "execution_count": 95,
   "metadata": {},
   "outputs": [],
   "source": [
    "data = df"
   ]
  },
  {
   "cell_type": "code",
   "execution_count": 96,
   "metadata": {},
   "outputs": [],
   "source": [
    "from sklearn.ensemble import RandomForestRegressor\n",
    "from sklearn.model_selection import train_test_split as tts\n",
    "from sklearn.preprocessing import PowerTransformer\n",
    "from sklearn.metrics import mean_squared_error\n",
    "PT = PowerTransformer(method = \"yeo-johnson\")\n",
    "X_train,X_test,y_train,y_test = tts(data.drop('A_Delay', axis = 1),data['A_Delay'],test_size = 0.3,random_state = 1)\n",
    "\n",
    "PT.fit(y_train.to_numpy().reshape(-1,1))\n",
    "lamb = PT.lambdas_\n",
    "\n",
    "yt_train = PT.transform(y_train.to_numpy().reshape(-1,1))\n",
    "yt_test = PT.transform(y_test.to_numpy().reshape(-1,1))\n",
    "\n",
    "from sklearn.preprocessing import PolynomialFeatures\n",
    "PF = PolynomialFeatures(2);\n",
    "\n",
    "data_p = PF.fit_transform(data.drop('A_Delay',axis = 1))\n",
    "\n",
    "Xp_train,Xp_test,y_train,y_test = tts(data_p,data['A_Delay'],test_size = 0.3,random_state = 1)"
   ]
  },
  {
   "cell_type": "code",
   "execution_count": 97,
   "metadata": {},
   "outputs": [
    {
     "name": "stderr",
     "output_type": "stream",
     "text": [
      "<ipython-input-97-9d9bfed11f7b>:2: DataConversionWarning: A column-vector y was passed when a 1d array was expected. Please change the shape of y to (n_samples,), for example using ravel().\n",
      "  RFR.fit(Xp_train,yt_train)\n"
     ]
    },
    {
     "name": "stdout",
     "output_type": "stream",
     "text": [
      "0.029624417194587676\n",
      "0.13031684357109183\n"
     ]
    }
   ],
   "source": [
    "RFR = RandomForestRegressor(n_estimators = 100, min_samples_split = 10, max_features = 'auto',n_jobs = -1, random_state = 1)\n",
    "RFR.fit(Xp_train,yt_train)\n",
    "print(mean_squared_error(RFR.predict(Xp_train),yt_train))\n",
    "print(mean_squared_error(RFR.predict(Xp_test),yt_test))\n"
   ]
  },
  {
   "cell_type": "markdown",
   "metadata": {},
   "source": [
    "## Selecting top 60 features"
   ]
  },
  {
   "cell_type": "code",
   "execution_count": 98,
   "metadata": {},
   "outputs": [
    {
     "name": "stderr",
     "output_type": "stream",
     "text": [
      "C:\\Users\\Pooja\\anaconda3\\lib\\site-packages\\sklearn\\utils\\validation.py:67: FutureWarning: Pass k=60 as keyword args. From version 0.25 passing these as positional arguments will result in an error\n",
      "  warnings.warn(\"Pass {} as keyword args. From version 0.25 \"\n"
     ]
    }
   ],
   "source": [
    "from sklearn.feature_selection import SelectKBest ,mutual_info_regression\n",
    "SKB = SelectKBest(mutual_info_regression,60)"
   ]
  },
  {
   "cell_type": "code",
   "execution_count": 99,
   "metadata": {},
   "outputs": [
    {
     "name": "stderr",
     "output_type": "stream",
     "text": [
      "C:\\Users\\Pooja\\anaconda3\\lib\\site-packages\\sklearn\\utils\\validation.py:72: DataConversionWarning: A column-vector y was passed when a 1d array was expected. Please change the shape of y to (n_samples, ), for example using ravel().\n",
      "  return f(**kwargs)\n"
     ]
    }
   ],
   "source": [
    "SKB.fit(Xp_train,yt_train)\n",
    "Xpt60_train = SKB.transform(Xp_train)\n",
    "Xpt60_test = SKB.transform(Xp_test)"
   ]
  },
  {
   "cell_type": "code",
   "execution_count": 100,
   "metadata": {},
   "outputs": [
    {
     "name": "stderr",
     "output_type": "stream",
     "text": [
      "<ipython-input-100-16d462363d62>:2: DataConversionWarning: A column-vector y was passed when a 1d array was expected. Please change the shape of y to (n_samples,), for example using ravel().\n",
      "  RFR.fit(Xpt60_train,yt_train)\n"
     ]
    },
    {
     "name": "stdout",
     "output_type": "stream",
     "text": [
      "0.06100334943778405\n",
      "0.13998613050380054\n"
     ]
    }
   ],
   "source": [
    "RFR = RandomForestRegressor(n_estimators = 500, min_samples_split = 20, max_features = 'auto',n_jobs = -1, random_state = 1)\n",
    "RFR.fit(Xpt60_train,yt_train)\n",
    "print(mean_squared_error(RFR.predict(Xpt60_train),yt_train))\n",
    "print(mean_squared_error(RFR.predict(Xpt60_test),yt_test))"
   ]
  },
  {
   "cell_type": "markdown",
   "metadata": {},
   "source": [
    "## Using SVM output in RFR"
   ]
  },
  {
   "cell_type": "code",
   "execution_count": 101,
   "metadata": {},
   "outputs": [],
   "source": [
    "from sklearn.svm import SVR\n",
    "svr = SVR(kernel = 'poly',degree = 1, C = 1.0 , max_iter = 10000)"
   ]
  },
  {
   "cell_type": "code",
   "execution_count": 102,
   "metadata": {},
   "outputs": [
    {
     "name": "stdout",
     "output_type": "stream",
     "text": [
      "0.8910843047037312\n",
      "0.8321496651321534\n"
     ]
    },
    {
     "name": "stderr",
     "output_type": "stream",
     "text": [
      "C:\\Users\\Pooja\\anaconda3\\lib\\site-packages\\sklearn\\utils\\validation.py:72: DataConversionWarning: A column-vector y was passed when a 1d array was expected. Please change the shape of y to (n_samples, ), for example using ravel().\n",
      "  return f(**kwargs)\n"
     ]
    }
   ],
   "source": [
    "svr.fit(Xpt60_train,yt_train)\n",
    "print(mean_squared_error(svr.predict(Xpt60_train),yt_train))\n",
    "print(mean_squared_error(svr.predict(Xpt60_test),yt_test))"
   ]
  },
  {
   "cell_type": "code",
   "execution_count": 103,
   "metadata": {},
   "outputs": [],
   "source": [
    "X_train_svm = np.concatenate([Xpt60_train,svr.predict(Xpt60_train).reshape(-1,1)],axis = 1)\n",
    "X_test_svm = np.concatenate([Xpt60_test,svr.predict(Xpt60_test).reshape(-1,1)],axis = 1)\n",
    "\n",
    "data_svm = np.concatenate([X_train_svm,X_test_svm],axis = 0)"
   ]
  },
  {
   "cell_type": "code",
   "execution_count": 104,
   "metadata": {},
   "outputs": [
    {
     "name": "stderr",
     "output_type": "stream",
     "text": [
      "<ipython-input-104-9c655a26feb1>:2: DataConversionWarning: A column-vector y was passed when a 1d array was expected. Please change the shape of y to (n_samples,), for example using ravel().\n",
      "  RFR.fit(X_train_svm,yt_train)\n"
     ]
    },
    {
     "name": "stdout",
     "output_type": "stream",
     "text": [
      "0.06046017080300197\n",
      "0.140956127851462\n"
     ]
    }
   ],
   "source": [
    "RFR = RandomForestRegressor(n_estimators = 500, min_samples_split = 20, max_features = 'auto',n_jobs = -1, random_state = 1)\n",
    "RFR.fit(X_train_svm,yt_train)\n",
    "print(mean_squared_error(RFR.predict(X_train_svm),yt_train))\n",
    "print(mean_squared_error(RFR.predict(X_test_svm),yt_test))"
   ]
  },
  {
   "cell_type": "code",
   "execution_count": 105,
   "metadata": {},
   "outputs": [],
   "source": [
    "g1 = PT.inverse_transform(RFR.predict(X_test_svm).reshape(-1,1)).reshape(-1,)\n",
    "g2 = PT.inverse_transform(yt_test.reshape(-1,1)).reshape(-1,)"
   ]
  },
  {
   "cell_type": "code",
   "execution_count": 106,
   "metadata": {},
   "outputs": [
    {
     "data": {
      "text/plain": [
       "<matplotlib.collections.PathCollection at 0x22c34ba9070>"
      ]
     },
     "execution_count": 106,
     "metadata": {},
     "output_type": "execute_result"
    },
    {
     "data": {
      "image/png": "[encoded data removed]",
      "text/plain": [
       "<Figure size 1080x1080 with 1 Axes>"
      ]
     },
     "metadata": {
      "needs_background": "light"
     },
     "output_type": "display_data"
    }
   ],
   "source": [
    "# LOOKING AT THE PREDICTIONS VISUALLY\n",
    "# PREDICTED VS ACTUAL GRAPH\n",
    "# y = x line (ORANGE)\n",
    "\n",
    "plt.figure(figsize=(15,15))\n",
    "plt.plot(np.arange(-40,50),np.arange(-40,50), color = 'orange')\n",
    "plt.scatter(g1,g2, marker = '.')"
   ]
  }
 ],
 "metadata": {
  "kernelspec": {
   "display_name": "Python 3",
   "language": "python",
   "name": "python3"
  },
  "language_info": {
   "codemirror_mode": {
    "name": "ipython",
    "version": 3
   },
   "file_extension": ".py",
   "mimetype": "text/x-python",
   "name": "python",
   "nbconvert_exporter": "python",
   "pygments_lexer": "ipython3",
   "version": "3.8.5"
  }
 },
 "nbformat": 4,
 "nbformat_minor": 4
}
